{
 "cells": [
  {
   "cell_type": "markdown",
   "id": "817d5791",
   "metadata": {
    "heading_collapsed": true
   },
   "source": [
    "## Logarithmic Sequence"
   ]
  },
  {
   "cell_type": "code",
   "execution_count": 5,
   "id": "f146f9f5",
   "metadata": {
    "hidden": true
   },
   "outputs": [
    {
     "name": "stdout",
     "output_type": "stream",
     "text": [
      "[  1.           2.51188643   6.30957344  15.84893192  39.81071706\n",
      " 100.        ]\n"
     ]
    }
   ],
   "source": [
    "import numpy as np\n",
    "arrObj = np.logspace(0,2,6)#10 power 0,10 power 2---> 5 number\n",
    "print(arrObj)"
   ]
  },
  {
   "cell_type": "markdown",
   "id": "5aa06469",
   "metadata": {
    "heading_collapsed": true
   },
   "source": [
    "## Mesh Grid"
   ]
  },
  {
   "cell_type": "code",
   "execution_count": 14,
   "id": "e7620b1e",
   "metadata": {
    "hidden": true
   },
   "outputs": [
    {
     "name": "stdout",
     "output_type": "stream",
     "text": [
      "[-1  0  1]\n",
      "[-2  0  2]\n",
      "[[-1  0  1]\n",
      " [-1  0  1]\n",
      " [-1  0  1]]\n",
      "2\n",
      "(3, 3)\n",
      "[[-2 -2 -2]\n",
      " [ 0  0  0]\n",
      " [ 2  2  2]]\n",
      "2\n",
      "(3, 3)\n",
      "[[-3 -2 -1]\n",
      " [-1  0  1]\n",
      " [ 1  2  3]]\n",
      "[[ 2  0 -2]\n",
      " [ 0  0  0]\n",
      " [-2  0  2]]\n"
     ]
    }
   ],
   "source": [
    "#1 dimensional array to multi dimensional array --> convert\n",
    "x = np.array([-1,0,1])\n",
    "y = np.array([-2,0,2])\n",
    "print(x)\n",
    "print(y)\n",
    "X,Y = np.meshgrid(x,y)\n",
    "print(X)#row\n",
    "print(X.ndim)\n",
    "print(X.shape)\n",
    "print(Y)#col\n",
    "print(Y.ndim)\n",
    "print(Y.shape)\n",
    "\n",
    "z = X + Y\n",
    "print(z)\n",
    "\n",
    "s = (X*Y)\n",
    "print(s)\n"
   ]
  },
  {
   "cell_type": "markdown",
   "id": "49bdd167",
   "metadata": {
    "heading_collapsed": true
   },
   "source": [
    "## Matrix Properties"
   ]
  },
  {
   "cell_type": "code",
   "execution_count": 42,
   "id": "e2561227",
   "metadata": {
    "hidden": true
   },
   "outputs": [
    {
     "name": "stdout",
     "output_type": "stream",
     "text": [
      "[[-1  0  1]\n",
      " [-1  0  1]\n",
      " [-1  0  1]]\n",
      "(3, 3)\n",
      "[[11 11 11]\n",
      " [11 11 11]\n",
      " [11 11 11]]\n",
      "[[1. 0. 0. 0.]\n",
      " [0. 1. 0. 0.]\n",
      " [0. 0. 1. 0.]\n",
      " [0. 0. 0. 1.]]\n",
      "[[1 0]\n",
      " [0 1]]\n",
      "[[1. 0. 0. 0. 0. 0.]\n",
      " [0. 1. 0. 0. 0. 0.]\n",
      " [0. 0. 1. 0. 0. 0.]\n",
      " [0. 0. 0. 1. 0. 0.]\n",
      " [0. 0. 0. 0. 1. 0.]\n",
      " [0. 0. 0. 0. 0. 1.]]\n"
     ]
    },
    {
     "data": {
      "text/plain": [
       "array([[ 0,  0,  0,  0,  0],\n",
       "       [ 1,  0,  0,  0,  0],\n",
       "       [ 0,  6,  0,  0,  0],\n",
       "       [ 0,  0, 11,  0,  0],\n",
       "       [ 0,  0,  0, 16,  0]])"
      ]
     },
     "execution_count": 42,
     "metadata": {},
     "output_type": "execute_result"
    }
   ],
   "source": [
    "#full_like  ---> clone\n",
    "x = np.array([-1,0,1])\n",
    "y = np.array([-2,0,2])\n",
    "X,Y = np.meshgrid(x,y)\n",
    "print(X)\n",
    "print(X.shape)\n",
    "def full(inarray):\n",
    "    newarr = np.full_like(inarray,11)\n",
    "    return newarr\n",
    "fullX = full(X)\n",
    "print(fullX)\n",
    "fullX.shape\n",
    "\n",
    "#Identity \n",
    "idenArray = np.identity(4)\n",
    "idenArray1 = np.identity(2,dtype='int')\n",
    "print(idenArray)\n",
    "print(idenArray1)\n",
    "\n",
    "#eye\n",
    "eyeArray = np.eye(6,k=0)#k =index\n",
    "print(eyeArray)\n",
    "\n",
    "#Custom diagonal\n",
    "x = np.arange(1,20,5)\n",
    "x\n",
    "diArray = np.diag(x)\n",
    "diArray\n",
    "\n",
    "diArray1 = np.diag(x,k=11)\n",
    "diArray1#row col extend\n",
    "\n",
    "\n",
    "diArray2 = np.diag(x,k=-1)\n",
    "diArray2#row col extend"
   ]
  },
  {
   "cell_type": "markdown",
   "id": "9cee2033",
   "metadata": {
    "heading_collapsed": true
   },
   "source": [
    "## Slicing And Indexing"
   ]
  },
  {
   "cell_type": "code",
   "execution_count": 51,
   "id": "812288bb",
   "metadata": {
    "hidden": true
   },
   "outputs": [
    {
     "name": "stdout",
     "output_type": "stream",
     "text": [
      "[0 1 2 3 4 5 6 7 8 9]\n",
      "0\n",
      "9\n",
      "[1 2 3 4 5 6 7 8]\n",
      "[1 3 5 7]\n",
      "[0 1 2 3 4]\n",
      "[8 9]\n",
      "[9 7 5 3 1]\n"
     ]
    }
   ],
   "source": [
    "arr = np.arange(0,10)\n",
    "print(arr)\n",
    "print(arr[0])\n",
    "print(arr[-1])\n",
    "print(arr[1:-1])\n",
    "print(arr[1:-1:2])\n",
    "print(arr[:5])\n",
    "print(arr[-2:])\n",
    "print(arr[::-2])#reverse"
   ]
  },
  {
   "cell_type": "markdown",
   "id": "be590ad3",
   "metadata": {
    "heading_collapsed": true
   },
   "source": [
    "## Flatten And NewAxis"
   ]
  },
  {
   "cell_type": "code",
   "execution_count": 76,
   "id": "f519a497",
   "metadata": {
    "hidden": true
   },
   "outputs": [
    {
     "name": "stdout",
     "output_type": "stream",
     "text": [
      "[1 2 3 4 5 6]\n",
      "Row Vector:  [[1 2 3 4 5 6]]\n",
      "(1, 6)\n",
      "[[1]\n",
      " [2]\n",
      " [3]\n",
      " [4]\n",
      " [5]\n",
      " [6]]\n",
      "(6, 1)\n",
      "[[ 2  3  4  5  6  7]\n",
      " [ 3  4  5  6  7  8]\n",
      " [ 4  5  6  7  8  9]\n",
      " [ 5  6  7  8  9 10]\n",
      " [ 6  7  8  9 10 11]\n",
      " [ 7  8  9 10 11 12]]\n",
      "(6, 6)\n"
     ]
    }
   ],
   "source": [
    "data = np.array([[1,2,3],[4,5,6]])\n",
    "data.ndim\n",
    "data.shape\n",
    "\n",
    "#to flaten\n",
    "flat = data.flatten()\n",
    "print(flat)\n",
    "flat.shape  #(6,)\n",
    "flat.ndim\n",
    "\n",
    "#new Axis\n",
    "row_vec = flat[np.newaxis,:]#[row,col]\n",
    "print(\"Row Vector: \",row_vec)\n",
    "print(row_vec.shape)\n",
    "col_vec = flat[:,np.newaxis]\n",
    "print(col_vec)\n",
    "print(col_vec.shape)\n",
    "\n",
    "z = row_vec + col_vec\n",
    "print(z)\n",
    "print(z.shape)"
   ]
  },
  {
   "cell_type": "markdown",
   "id": "0681191d",
   "metadata": {
    "heading_collapsed": true
   },
   "source": [
    "## expand_dim,vstack,hstack"
   ]
  },
  {
   "cell_type": "code",
   "execution_count": 85,
   "id": "8822aa99",
   "metadata": {
    "hidden": true
   },
   "outputs": [
    {
     "name": "stdout",
     "output_type": "stream",
     "text": [
      "[0 1 2 3 4]\n",
      "[[0]\n",
      " [1]\n",
      " [2]\n",
      " [3]\n",
      " [4]]\n",
      "(5, 1)\n",
      "[[0 1 2 3 4]]\n",
      "(1, 5)\n",
      "[[0 1 2 3 4]\n",
      " [0 1 2 3 4]\n",
      " [0 1 2 3 4]]\n",
      "(3, 5)\n",
      "[0 1 2 3 4 0 1 2 3 4 0 1 2 3 4]\n",
      "(15,)\n"
     ]
    }
   ],
   "source": [
    "#expand_dims\n",
    "arr = np.arange(5)\n",
    "print(arr)\n",
    "col_exp = np.expand_dims(arr,axis=1)\n",
    "#1 col vec style\n",
    "print(col_exp)\n",
    "print(col_exp.shape)\n",
    "\n",
    "row_exp = np.expand_dims(arr,axis=0)\n",
    "print(row_exp)\n",
    "print(row_exp.shape)\n",
    "\n",
    "#vstack\n",
    "#vertical or row \n",
    "vs = np.vstack((arr,arr,arr))\n",
    "print(vs)\n",
    "print(vs.shape)\n",
    "\n",
    "#hstack or col\n",
    "hs = np.hstack((arr,arr,arr))\n",
    "print(hs)\n",
    "print(hs.shape)\n"
   ]
  },
  {
   "cell_type": "markdown",
   "id": "5689543a",
   "metadata": {
    "heading_collapsed": true
   },
   "source": [
    "## Recap"
   ]
  },
  {
   "cell_type": "code",
   "execution_count": 123,
   "id": "9fc19f3a",
   "metadata": {
    "hidden": true
   },
   "outputs": [
    {
     "name": "stdout",
     "output_type": "stream",
     "text": [
      "[[1. 2. 3.]\n",
      " [4. 5. 6.]\n",
      " [7. 8. 9.]]\n",
      "2\n",
      "(3, 3)\n",
      "[[0 0 0]\n",
      " [0 0 0]\n",
      " [0 0 0]]\n",
      "int32\n",
      "4\n",
      "36\n",
      "9.0\n",
      "[[[1 2]\n",
      "  [3 4]]\n",
      "\n",
      " [[5 6]\n",
      "  [7 8]]]\n",
      "3\n",
      "(2, 2, 2)\n",
      "3\n",
      "8\n",
      "[[[ 1  2]\n",
      "  [ 3  4]]\n",
      "\n",
      " [[ 5  6]\n",
      "  [ 7 88]]]\n",
      "[[ 1  2  3  4  5  6  7]\n",
      " [ 8  9 10 11 12 13 14]]\n",
      "(2, 7)\n",
      "[[4 4 4 4 4 4 4]\n",
      " [4 4 4 4 4 4 4]]\n",
      "(2, 7)\n"
     ]
    }
   ],
   "source": [
    "arr = np.array([\n",
    "    [1,2,3],[4,5,6],[7,8,9]\n",
    "],dtype= float)\n",
    "print(arr)\n",
    "print(arr.ndim)\n",
    "print(arr.shape)\n",
    "\n",
    "#Zeros\n",
    "numZeros = np.zeros((3,3),dtype = 'int32')#default float64\n",
    "print(numZeros)\n",
    "print(numZeros.dtype)\n",
    "print(numZeros.itemsize)#bytes\n",
    "print(numZeros.nbytes)#get total size\n",
    "\n",
    "#accessing\n",
    "print(arr[2][2])\n",
    "#startindex:endindex:stepsize for one D\n",
    "\n",
    "#3D \n",
    "b = np.array([[[1,2],[3,4]],[[5,6],[7,8]]])\n",
    "print(b)\n",
    "print(b.ndim)\n",
    "print(b.shape)#depth 2 ---> 3D\n",
    "print(b[0,1,0])#work outside in\n",
    "print(b[1,1,1])#8\n",
    "\n",
    "b[1,1,1] = 88\n",
    "print(b)\n",
    "\n",
    "\n",
    "#All one\n",
    "np.ones(5)\n",
    "np.ones((2,3))\n",
    "\n",
    "\n",
    "#any other number\n",
    "np.full((2,2),99,dtype=float)\n",
    "\n",
    "#full_like\n",
    "c= np.array([[1,2,3,4,5,6,7],[8,9,10,11,12,13,14]])\n",
    "print(c)\n",
    "print(c.shape)\n",
    "d = np.full_like(c,4)\n",
    "print(d)\n",
    "print(d.shape)\n",
    "\n"
   ]
  },
  {
   "cell_type": "code",
   "execution_count": 127,
   "id": "f2d2bd9d",
   "metadata": {
    "hidden": true
   },
   "outputs": [
    {
     "data": {
      "text/plain": [
       "array([ 0.54030231, -0.41614684, -0.9899925 , -0.65364362])"
      ]
     },
     "execution_count": 127,
     "metadata": {},
     "output_type": "execute_result"
    }
   ],
   "source": [
    "#math\n",
    "a = np.array([1,2,3,4])\n",
    "np.sin(a)\n",
    "np.cos(a)"
   ]
  },
  {
   "cell_type": "markdown",
   "id": "43d5c592",
   "metadata": {
    "heading_collapsed": true
   },
   "source": [
    "## Linear Algebra"
   ]
  },
  {
   "cell_type": "code",
   "execution_count": 133,
   "id": "08703fe1",
   "metadata": {
    "hidden": true
   },
   "outputs": [
    {
     "data": {
      "text/plain": [
       "1.0"
      ]
     },
     "execution_count": 133,
     "metadata": {},
     "output_type": "execute_result"
    }
   ],
   "source": [
    "a = np.ones((2,3))\n",
    "a\n",
    "\n",
    "b = np.full((3,2),2)\n",
    "b\n",
    "\n",
    "#use matmul\n",
    "np.matmul(a,b)\n",
    "\n",
    "#find determinant\n",
    "c = np.identity(3)\n",
    "c\n",
    "np.linalg.det(c)\n",
    "\n",
    "#futher info --> https://numpy.org/doc/stable/reference/routines.linalg.html"
   ]
  },
  {
   "cell_type": "markdown",
   "id": "de6870a6",
   "metadata": {
    "heading_collapsed": true
   },
   "source": [
    "## Statistics"
   ]
  },
  {
   "cell_type": "code",
   "execution_count": 145,
   "id": "0b17ad03",
   "metadata": {
    "hidden": true
   },
   "outputs": [
    {
     "name": "stdout",
     "output_type": "stream",
     "text": [
      "[[1 2 3]\n",
      " [4 5 6]]\n"
     ]
    },
    {
     "data": {
      "text/plain": [
       "array([5, 7, 9])"
      ]
     },
     "execution_count": 145,
     "metadata": {},
     "output_type": "execute_result"
    }
   ],
   "source": [
    "stats = np.array([[1,2,3],[4,5,6]])\n",
    "print(stats)\n",
    "np.max(stats)\n",
    "np.max(stats,axis=1)#row\n",
    "np.max(stats,axis=0)#col\n",
    "\n",
    "np.sum(stats,axis=1)#row\n",
    "np.sum(stats,axis=0)#col"
   ]
  },
  {
   "cell_type": "markdown",
   "id": "5c257069",
   "metadata": {
    "heading_collapsed": true
   },
   "source": [
    "## Load Data"
   ]
  },
  {
   "cell_type": "code",
   "execution_count": 148,
   "id": "cbd09f27",
   "metadata": {
    "hidden": true
   },
   "outputs": [
    {
     "name": "stdout",
     "output_type": "stream",
     "text": [
      "[[  1.  13.  21.  11. 196.  75.   4.   3.  34.   6.   7.   8.   0.   1.\n",
      "    2.   3.   4.   5.]\n",
      " [  3.  42.  12.  33. 766.  75.   4.  55.   6.   4.   3.   4.   5.   6.\n",
      "    7.   0.  11.  12.]\n",
      " [  1.  22.  33.  11. 999.  11.   2.   1.  78.   0.   1.   2.   9.   8.\n",
      "    7.   1.  76.  88.]]\n",
      "[[  1  13  21  11 196  75   4   3  34   6   7   8   0   1   2   3   4   5]\n",
      " [  3  42  12  33 766  75   4  55   6   4   3   4   5   6   7   0  11  12]\n",
      " [  1  22  33  11 999  11   2   1  78   0   1   2   9   8   7   1  76  88]]\n"
     ]
    }
   ],
   "source": [
    "filedata = np.genfromtxt('data.txt',delimiter=',')\n",
    "print(filedata)\n",
    "\n",
    "filedata = filedata.astype('int32')\n",
    "print(filedata)"
   ]
  },
  {
   "cell_type": "markdown",
   "id": "9baa155b",
   "metadata": {},
   "source": [
    "## Multiply Two Matrices"
   ]
  },
  {
   "cell_type": "code",
   "execution_count": 150,
   "id": "47849337",
   "metadata": {},
   "outputs": [
    {
     "name": "stdout",
     "output_type": "stream",
     "text": [
      "[[19 67 63]\n",
      " [25 84 97]\n",
      " [20 75 95]]\n"
     ]
    }
   ],
   "source": [
    "matrix1 = [\n",
    "    [3, 4, 2],\n",
    "    [5, 1, 8],\n",
    "    [3, 1, 9]\n",
    "]\n",
    "\n",
    "\n",
    "matrix2 = [\n",
    "    [3, 7, 5],\n",
    "    [2, 9, 8],\n",
    "    [1, 5, 8]\n",
    "]\n",
    "#2*3 3*2 = 2*2\n",
    "result  = np.dot(matrix1,matrix2)\n",
    "print(result)\n",
    "\n",
    "#For Practice ---> https://www.w3resource.com/python-exercises/numpy/index.php"
   ]
  },
  {
   "cell_type": "markdown",
   "id": "361b9149",
   "metadata": {
    "heading_collapsed": true
   },
   "source": [
    "## Assignment"
   ]
  },
  {
   "cell_type": "markdown",
   "id": "1423dfdf",
   "metadata": {
    "hidden": true
   },
   "source": [
    "*Checkboard Pattern* "
   ]
  },
  {
   "cell_type": "markdown",
   "id": "71913bf9",
   "metadata": {
    "hidden": true
   },
   "source": [
    "<img src=\"assignment.png\">"
   ]
  }
 ],
 "metadata": {
  "kernelspec": {
   "display_name": "Python 3 (ipykernel)",
   "language": "python",
   "name": "python3"
  },
  "language_info": {
   "codemirror_mode": {
    "name": "ipython",
    "version": 3
   },
   "file_extension": ".py",
   "mimetype": "text/x-python",
   "name": "python",
   "nbconvert_exporter": "python",
   "pygments_lexer": "ipython3",
   "version": "3.9.13"
  },
  "varInspector": {
   "cols": {
    "lenName": 16,
    "lenType": 16,
    "lenVar": 40
   },
   "kernels_config": {
    "python": {
     "delete_cmd_postfix": "",
     "delete_cmd_prefix": "del ",
     "library": "var_list.py",
     "varRefreshCmd": "print(var_dic_list())"
    },
    "r": {
     "delete_cmd_postfix": ") ",
     "delete_cmd_prefix": "rm(",
     "library": "var_list.r",
     "varRefreshCmd": "cat(var_dic_list()) "
    }
   },
   "types_to_exclude": [
    "module",
    "function",
    "builtin_function_or_method",
    "instance",
    "_Feature"
   ],
   "window_display": false
  }
 },
 "nbformat": 4,
 "nbformat_minor": 5
}
